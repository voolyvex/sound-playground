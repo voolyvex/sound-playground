{
 "cells": [
  {
   "cell_type": "code",
   "execution_count": null,
   "metadata": {},
   "outputs": [
    {
     "name": "stdout",
     "output_type": "stream",
     "text": [
      "Hello sounds.\n"
     ]
    }
   ],
   "source": [
    "print(\"Hello sounds.\")"
   ]
  },
  {
   "attachments": {},
   "cell_type": "markdown",
   "metadata": {},
   "source": [
    "Import simpleaudio and numpy libraries.."
   ]
  },
  {
   "cell_type": "code",
   "execution_count": 21,
   "metadata": {},
   "outputs": [],
   "source": [
    "import simpleaudio as sa\n",
    "import numpy as np"
   ]
  },
  {
   "cell_type": "code",
   "execution_count": 22,
   "metadata": {},
   "outputs": [],
   "source": [
    "# playing a basic tone with simpleaudio\n",
    "\n",
    "frequency = 440  # Our played note will be 440 Hz\n",
    "fs = 44100  # 44100 samples per second\n",
    "seconds = 3  # Note duration of 3 seconds\n",
    "\n",
    "# Generate array with seconds*sample_rate steps, ranging between 0 and seconds\n",
    "t = np.linspace(0, seconds, seconds * fs, False)\n",
    "\n",
    "# Generate a 440 Hz sine wave\n",
    "note = np.sin(frequency * t * 2 * np.pi)\n",
    "\n",
    "# Ensure that highest value is in 16-bit range\n",
    "audio = note * (2**15 - 1) / np.max(np.abs(note))\n",
    "# Convert to 16-bit data\n",
    "audio = audio.astype(np.int16)\n",
    "\n",
    "# Start playback\n",
    "play_obj = sa.play_buffer(audio, 1, 2, fs)\n",
    "\n",
    "# Wait for playback to finish before exiting\n",
    "play_obj.wait_done()"
   ]
  },
  {
   "attachments": {},
   "cell_type": "markdown",
   "metadata": {},
   "source": [
    "Use Beeps to make arpeggio..."
   ]
  },
  {
   "cell_type": "code",
   "execution_count": 23,
   "metadata": {},
   "outputs": [],
   "source": [
    "import winsound\n",
    "import time\n",
    "\n",
    "dur = 100\n",
    "delay = 0.1  # Adjust this value to control the delay between beeps\n",
    "\n",
    "for i in range(110, 2200, 110):\n",
    "    winsound.Beep(i, dur)  # Beep at 'i' Hz for 'dur' ms\n",
    "    time.sleep(delay)\n"
   ]
  },
  {
   "attachments": {},
   "cell_type": "markdown",
   "metadata": {},
   "source": [
    "Use simpleaudio to make arpeggio..."
   ]
  },
  {
   "cell_type": "code",
   "execution_count": 24,
   "metadata": {},
   "outputs": [],
   "source": [
    "\n",
    "fs = 44100  # 44100 samples per second\n",
    "seconds = 1  # Note duration of 3 seconds\n",
    "\n",
    "# Define the arpeggio frequencies\n",
    "frequencies = [440, 523.25, 659.25, 783.99]\n",
    "\n",
    "# Create an empty array to store the combined arpeggio\n",
    "combined_note = np.array([])\n",
    "\n",
    "for frequency in frequencies:\n",
    "    # Generate array with seconds*sample_rate steps, ranging between 0 and seconds\n",
    "    t = np.linspace(0, seconds, seconds * fs, False)\n",
    "\n",
    "    # Generate a sine wave for the current frequency\n",
    "    note = np.sin(frequency * t * 2 * np.pi)\n",
    "\n",
    "    # Ensure that the highest value is in the 16-bit range\n",
    "    note = note * (2**15 - 1) / np.max(np.abs(note))\n",
    "\n",
    "    # Append the current note to the combined arpeggio\n",
    "    combined_note = np.append(combined_note, note)\n",
    "\n",
    "# Convert the combined arpeggio to 16-bit data\n",
    "audio = combined_note.astype(np.int16)\n",
    "\n",
    "# Start playback\n",
    "play_obj = sa.play_buffer(audio, 1, 2, fs)\n",
    "\n",
    "# Wait for playback to finish before exiting\n",
    "play_obj.wait_done()\n"
   ]
  },
  {
   "attachments": {},
   "cell_type": "markdown",
   "metadata": {},
   "source": [
    "Play the secret unlock sound from Zelda.."
   ]
  },
  {
   "cell_type": "code",
   "execution_count": 25,
   "metadata": {},
   "outputs": [],
   "source": [
    "\n",
    "# Load the \"secret\" sound effect from a file\n",
    "wave_obj = sa.WaveObject.from_wave_file(\"LOZ_secret.wav\")\n",
    "\n",
    "# Start playback\n",
    "play_obj = wave_obj.play()\n",
    "\n",
    "# Wait for playback to finish before exiting\n",
    "play_obj.wait_done()"
   ]
  },
  {
   "attachments": {},
   "cell_type": "markdown",
   "metadata": {},
   "source": [
    "Speed up the playback using wave module..."
   ]
  },
  {
   "cell_type": "code",
   "execution_count": 27,
   "metadata": {},
   "outputs": [],
   "source": [
    "import wave\n",
    "\n",
    "# Load the \"secret\" sound effect from a file\n",
    "wave_file = wave.open(\"LOZ_secret.wav\", 'rb')\n",
    "params = wave_file.getparams()\n",
    "\n",
    "# Adjust the sample rate to speed up the sound\n",
    "new_sample_rate = int(params.framerate * 1.5)  # Increase the speed by a factor of 1.5\n",
    "new_params = (params.nchannels, params.sampwidth, new_sample_rate, params.nframes,\n",
    "              params.comptype, params.compname)\n",
    "\n",
    "# Read the audio data from the file\n",
    "audio_data = wave_file.readframes(params.nframes)\n",
    "\n",
    "# Create a new wave file with the adjusted sample rate\n",
    "speeded_up_wave = wave.open(\"LOZ_secret_fast.wav\", 'wb')\n",
    "speeded_up_wave.setparams(new_params)\n",
    "speeded_up_wave.writeframes(audio_data)\n",
    "speeded_up_wave.close()\n",
    "\n",
    "# Play the speeded-up secret sound\n",
    "wave_obj = sa.WaveObject.from_wave_file(\"LOZ_secret_fast.wav\")\n",
    "play_obj = wave_obj.play()\n",
    "play_obj.wait_done()"
   ]
  },
  {
   "attachments": {},
   "cell_type": "markdown",
   "metadata": {},
   "source": [
    "Reverse the audio sample by creating a new file..."
   ]
  },
  {
   "cell_type": "code",
   "execution_count": 30,
   "metadata": {},
   "outputs": [],
   "source": [
    "# Reverse the speeded-up audio sample\n",
    "reversed_audio_data = audio_data[::-1]\n",
    "\n",
    "# Create a new wave file with the reversed audio sample\n",
    "reversed_wave = wave.open(\"LOZ_secret_fast_reversed.wav\", 'wb')\n",
    "reversed_wave.setparams(new_params)\n",
    "reversed_wave.writeframes(reversed_audio_data)\n",
    "reversed_wave.close()\n",
    "\n",
    "# Play the reversed speeded-up secret sound\n",
    "wave_obj = sa.WaveObject.from_wave_file(\"LOZ_secret_fast_reversed.wav\")\n",
    "play_obj = wave_obj.play()\n",
    "play_obj.wait_done()"
   ]
  }
 ],
 "metadata": {
  "kernelspec": {
   "display_name": "Sound-54jhynu_",
   "language": "python",
   "name": "python3"
  },
  "language_info": {
   "codemirror_mode": {
    "name": "ipython",
    "version": 3
   },
   "file_extension": ".py",
   "mimetype": "text/x-python",
   "name": "python",
   "nbconvert_exporter": "python",
   "pygments_lexer": "ipython3",
   "version": "3.11.3"
  },
  "orig_nbformat": 4
 },
 "nbformat": 4,
 "nbformat_minor": 2
}
